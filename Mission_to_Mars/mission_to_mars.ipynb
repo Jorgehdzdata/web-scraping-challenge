{
 "cells": [
  {
   "cell_type": "code",
   "execution_count": 2,
   "id": "db68fedb-d672-4336-ad21-940abfce6c88",
   "metadata": {},
   "outputs": [],
   "source": [
    "#Importing libraries\n",
    "import pandas as pd\n",
    "import time\n",
    "from bs4 import BeautifulSoup as bs\n",
    "from splinter import Browser\n",
    "from pprint import pprint\n",
    "import warnings\n",
    "warnings.filterwarnings('ignore')\n",
    "from webdriver_manager.chrome import ChromeDriverManager"
   ]
  },
  {
   "cell_type": "code",
   "execution_count": 3,
   "id": "14f14f4a-beab-4386-b4a7-364cb78ab8b9",
   "metadata": {},
   "outputs": [
    {
     "name": "stderr",
     "output_type": "stream",
     "text": [
      "\n",
      "\n",
      "====== WebDriver manager ======\n",
      "Current google-chrome version is 99.0.4844\n",
      "Get LATEST chromedriver version for 99.0.4844 google-chrome\n",
      "Trying to download new driver from https://chromedriver.storage.googleapis.com/99.0.4844.51/chromedriver_win32.zip\n",
      "Driver has been saved in cache [C:\\Users\\jorge\\.wdm\\drivers\\chromedriver\\win32\\99.0.4844.51]\n"
     ]
    }
   ],
   "source": [
    "#Establsih path to chrome executable file\n",
    "executable_path = {'executable_path': ChromeDriverManager().install()}\n",
    "browser = Browser('chrome', **executable_path, headless=False)"
   ]
  },
  {
   "cell_type": "markdown",
   "id": "190cd5a2-6771-4f7c-b849-93fbe8bfe6b4",
   "metadata": {
    "tags": []
   },
   "source": [
    "## NASA Mars News\n",
    "\n",
    "[NASA - Mars Exploration Program](https://mars.nasa.gov/news/)\n",
    "\n",
    "\n"
   ]
  },
  {
   "cell_type": "code",
   "execution_count": 4,
   "id": "9ea9e4ed-36c3-4aae-9a36-a3f73418b69a",
   "metadata": {
    "scrolled": true,
    "tags": []
   },
   "outputs": [],
   "source": [
    "# Visit the NASA Mars News Page\n",
    "# Set up url\n",
    "nasa_url = \"https://mars.nasa.gov/news/\"\n",
    "browser.visit(nasa_url)\n",
    "\n",
    "# Wait for the page/page elements to load.\n",
    "time.sleep(1)\n",
    "\n",
    "# Scrape page into soup.\n",
    "html = browser.html\n",
    "soup = bs(html, \"html.parser\")"
   ]
  },
  {
   "cell_type": "code",
   "execution_count": 5,
   "id": "0872f6b3-f352-4001-a0db-b692095e7794",
   "metadata": {},
   "outputs": [
    {
     "name": "stdout",
     "output_type": "stream",
     "text": [
      "Latest news title: NASA's Ingenuity Helicopter and Asteroid-Monitoring System Honored.\n",
      "Latest news p text: The team behind the agency's history-making rotorcraft soars, picking up high-profile awards alongside a new-and-improved system to assess asteroid orbits.\n"
     ]
    }
   ],
   "source": [
    "# Get latest news title and paragraph text.\n",
    "news_title = soup.find_all('div', class_='content_title')[1].text\n",
    "news_p = soup.find_all('div', class_=\"article_teaser_body\")[0].text\n",
    "print(f\"Latest news title: {news_title}.\")\n",
    "print(f\"Latest news p text: {news_p}\")"
   ]
  },
  {
   "cell_type": "markdown",
   "id": "82c98465-9595-4978-b02e-b9649eb78c41",
   "metadata": {},
   "source": [
    "## JPL Mars Space Images - Featured Image"
   ]
  },
  {
   "cell_type": "code",
   "execution_count": 41,
   "id": "f423d50f-bafc-4bf6-ac91-d6fddacd52f1",
   "metadata": {},
   "outputs": [],
   "source": [
    "# Navigate to the page\n",
    "img_url = 'https://spaceimages-mars.com/'\n",
    "browser.visit(img_url)\n",
    "\n",
    "# Find figure to retrieve section that has image url\n",
    "jpl_html = browser.html\n",
    "jpl_soup = bs(jpl_html, \"html.parser\")\n",
    "jpl_img_result = jpl_soup.find(\"a\", class_=\"showimg fancybox-thumbs\")\n",
    "jpl_img_result1 = jpl_img_result[\"href\"]"
   ]
  },
  {
   "cell_type": "code",
   "execution_count": 7,
   "id": "fc8fb0ba-e52a-4d71-a8df-7f10afcd7e00",
   "metadata": {},
   "outputs": [
    {
     "data": {
      "text/plain": [
       "'https://spaceimages-mars.com/image/featured/mars2.jpg'"
      ]
     },
     "execution_count": 7,
     "metadata": {},
     "output_type": "execute_result"
    }
   ],
   "source": [
    "# Find the image url to the full size .jpg image\n",
    "featured_image_url = img_url + jpl_img_result1\n",
    "featured_image_url"
   ]
  },
  {
   "cell_type": "markdown",
   "id": "73fab4df-c58a-46c2-856b-20fab84cf29c",
   "metadata": {},
   "source": [
    "## Mars Facts"
   ]
  },
  {
   "cell_type": "code",
   "execution_count": 23,
   "id": "777571c7-e276-4a2a-9971-d5cb4f13d7c8",
   "metadata": {},
   "outputs": [],
   "source": [
    "# Visit url for mars facts.\n",
    "url = \"https://galaxyfacts-mars.com/\"\n",
    "browser.visit(url)\n",
    "\n",
    "# Wait for page/page elements to load.\n",
    "time.sleep(1)\n",
    "\n",
    "\n",
    "facts_df = pd.read_html(url)[0]\n",
    "facts_df.columns = [\"description\",\"value\",\"earth\"]\n",
    "facts_df = facts_df.drop(\"earth\" , 1)\n",
    "facts_df = facts_df.set_index(\"description\")\n",
    "facts_df = facts_df.iloc[1: , :]\n",
    "facts_df\n",
    "# Use Pandas to convert the data to a HTML table string.\n",
    "html_table = facts_df.to_html()\n",
    "\n",
    "# Strip newlines\n",
    "html_table.replace(\"\\n\",\"\")\n",
    "\n",
    "# Save html table\n",
    "facts_df.to_html('mars_facts.html')\n"
   ]
  },
  {
   "cell_type": "markdown",
   "id": "7c49e7bf-00f1-480d-bd0f-9e72823ce2d9",
   "metadata": {},
   "source": [
    "## Mars Hemispheres"
   ]
  },
  {
   "cell_type": "code",
   "execution_count": 33,
   "id": "94655c39-b5d0-4a1d-bd1c-1f1399973783",
   "metadata": {},
   "outputs": [],
   "source": [
    "# Visit url for images of Mar's hemispheres.\n",
    "base_url = \"https://marshemispheres.com/\"\n",
    "h_url_root = base_url.split('/search')[0]\n",
    "browser.visit(base_url)"
   ]
  },
  {
   "cell_type": "code",
   "execution_count": 34,
   "id": "4d64234d-5392-4b64-808c-ad4728e1652b",
   "metadata": {},
   "outputs": [],
   "source": [
    "# Wait for the page/page elements to load.\n",
    "time.sleep(1)\n",
    "\n",
    "# Scrape page into soup.\n",
    "html = browser.html\n",
    "soup = bs(html, \"html.parser\")"
   ]
  },
  {
   "cell_type": "code",
   "execution_count": 27,
   "id": "8eb29ea5-3a17-4c75-8b52-32fceb60ee48",
   "metadata": {},
   "outputs": [
    {
     "name": "stdout",
     "output_type": "stream",
     "text": [
      "[{'img_url': 'images/full.jpg', 'title': 'Cerberus Hemisphere '},\n",
      " {'img_url': 'images/schiaparelli_enhanced-full.jpg',\n",
      "  'title': 'Schiaparelli Hemisphere '},\n",
      " {'img_url': 'images/syrtis_major_enhanced-full.jpg',\n",
      "  'title': 'Syrtis Major Hemisphere '},\n",
      " {'img_url': 'images/valles_marineris_enhanced-full.jpg',\n",
      "  'title': 'Valles Marineris Hemisphere '}]\n"
     ]
    }
   ],
   "source": [
    "# Get hemisphere name and image url for the full resolution image.\n",
    "hemispheres = soup.find_all('div', class_='item')\n",
    "hemisphere_image_urls = []\n",
    "\n",
    "for hemisphere in hemispheres:\n",
    "    link_text = hemisphere.find('h3').text\n",
    "    splitted = link_text.split('Enhanced')\n",
    "    title = splitted[0]\n",
    "    browser.click_link_by_partial_text(link_text)\n",
    "    hemisphere_page_html = browser.html\n",
    "    soup = bs(hemisphere_page_html, \"html.parser\")\n",
    "    downloads = soup.find('div', class_=\"downloads\")\n",
    "    img_url = downloads.a[\"href\"]\n",
    "    hemisphere_dict = { \"title\": title, \"img_url\": img_url }\n",
    "    hemisphere_image_urls.append(hemisphere_dict)\n",
    "    browser.back()\n",
    "    \n",
    "pprint(hemisphere_image_urls)"
   ]
  },
  {
   "cell_type": "code",
   "execution_count": 35,
   "id": "fadbe697-461f-4771-b429-58efc7309380",
   "metadata": {},
   "outputs": [
    {
     "data": {
      "text/plain": [
       "['Cerberus Hemisphere Enhanced',\n",
       " 'Schiaparelli Hemisphere Enhanced',\n",
       " 'Syrtis Major Hemisphere Enhanced',\n",
       " 'Valles Marineris Hemisphere Enhanced']"
      ]
     },
     "execution_count": 35,
     "metadata": {},
     "output_type": "execute_result"
    }
   ],
   "source": [
    "# Scrape the site and visit each hemisphere page\n",
    "title_list = []\n",
    "url_list = []\n",
    "    \n",
    "for result in range(1):\n",
    "    h_html = browser.html\n",
    "    h_soup = bs(h_html, \"html.parser\")\n",
    "    h_results = h_soup.find_all(\"div\", class_=\"item\")\n",
    "    \n",
    "    # Get url for each hemisphere\n",
    "    for item in h_results:\n",
    "        item_url = item.a[\"href\"]\n",
    "        item_full_url = h_url_root + item_url\n",
    "        url_list.append(item_full_url)\n",
    "        title = item.find(\"h3\").text\n",
    "        title_list.append(title)\n",
    "        \n",
    "title_list\n",
    "\n"
   ]
  },
  {
   "cell_type": "code",
   "execution_count": 36,
   "id": "e7e3e486-0af0-4cc4-8259-d9fc0fb77711",
   "metadata": {},
   "outputs": [
    {
     "data": {
      "text/plain": [
       "['images/full.jpg',\n",
       " 'images/schiaparelli_enhanced-full.jpg',\n",
       " 'images/syrtis_major_enhanced-full.jpg',\n",
       " 'images/valles_marineris_enhanced-full.jpg']"
      ]
     },
     "execution_count": 36,
     "metadata": {},
     "output_type": "execute_result"
    }
   ],
   "source": [
    "# Get image url from each page and create url list\n",
    "url_dict_list = []\n",
    "\n",
    "for item_url in url_list:\n",
    "    browser.visit(item_url)\n",
    "    html = browser.html\n",
    "    soup = bs(html, \"html.parser\")\n",
    "    img_path = soup.select_one(\"ul\")\n",
    "    image_url = img_path.a[\"href\"]\n",
    "    url_dict_list.append(image_url)\n",
    "    \n",
    "url_dict_list\n",
    "\n"
   ]
  },
  {
   "cell_type": "code",
   "execution_count": 38,
   "id": "0fda9009-73b5-4896-9f4d-9efb24f4c88b",
   "metadata": {},
   "outputs": [
    {
     "name": "stdout",
     "output_type": "stream",
     "text": [
      "[{'img_url': 'images/full.jpg', 'title': 'Cerberus Hemisphere Enhanced'},\n",
      " {'img_url': 'images/schiaparelli_enhanced-full.jpg',\n",
      "  'title': 'Schiaparelli Hemisphere Enhanced'},\n",
      " {'img_url': 'images/syrtis_major_enhanced-full.jpg',\n",
      "  'title': 'Syrtis Major Hemisphere Enhanced'},\n",
      " {'img_url': 'images/valles_marineris_enhanced-full.jpg',\n",
      "  'title': 'Valles Marineris Hemisphere Enhanced'}]\n"
     ]
    }
   ],
   "source": [
    "# Combine 2 lists to get one list of dictionaries\n",
    "hemisphere_image_urls = []\n",
    "\n",
    "for url,title in zip(url_dict_list,title_list):\n",
    "    hemisphere_image_dict = {}\n",
    "    hemisphere_image_dict[\"title\"] = title\n",
    "    hemisphere_image_dict[\"img_url\"] = url\n",
    "    hemisphere_image_urls.append(hemisphere_image_dict)\n",
    "pprint(hemisphere_image_urls)\n",
    "\n"
   ]
  },
  {
   "cell_type": "code",
   "execution_count": 39,
   "id": "b9a84eb1-66f1-4a40-ac66-749b5b38ec58",
   "metadata": {},
   "outputs": [
    {
     "name": "stderr",
     "output_type": "stream",
     "text": [
      "[NbConvertApp] Converting notebook mission_to_mars.ipynb to script\n",
      "[NbConvertApp] Writing 4490 bytes to mission_to_mars.py\n"
     ]
    }
   ],
   "source": [
    "#!jupyter nbconvert --to script mission_to_mars.ipynb\n",
    "\n"
   ]
  },
  {
   "cell_type": "code",
   "execution_count": null,
   "id": "fc5050a9-0c35-4b94-8080-d2b48473107d",
   "metadata": {},
   "outputs": [],
   "source": []
  }
 ],
 "metadata": {
  "kernelspec": {
   "display_name": "Python 3 (ipykernel)",
   "language": "python",
   "name": "python3"
  },
  "language_info": {
   "codemirror_mode": {
    "name": "ipython",
    "version": 3
   },
   "file_extension": ".py",
   "mimetype": "text/x-python",
   "name": "python",
   "nbconvert_exporter": "python",
   "pygments_lexer": "ipython3",
   "version": "3.9.7"
  }
 },
 "nbformat": 4,
 "nbformat_minor": 5
}
