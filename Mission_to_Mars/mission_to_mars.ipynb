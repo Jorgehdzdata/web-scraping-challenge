{
 "cells": [
  {
   "cell_type": "code",
   "execution_count": 8,
   "id": "db68fedb-d672-4336-ad21-940abfce6c88",
   "metadata": {},
   "outputs": [],
   "source": [
    "#Importing libraries\n",
    "import pandas as pd\n",
    "import time\n",
    "from bs4 import BeautifulSoup as bs\n",
    "from splinter import Browser\n",
    "from pprint import pprint\n",
    "import warnings\n",
    "warnings.filterwarnings('ignore')\n",
    "from webdriver_manager.chrome import ChromeDriverManager"
   ]
  },
  {
   "cell_type": "code",
   "execution_count": 9,
   "id": "14f14f4a-beab-4386-b4a7-364cb78ab8b9",
   "metadata": {},
   "outputs": [
    {
     "name": "stderr",
     "output_type": "stream",
     "text": [
      "\n",
      "\n",
      "====== WebDriver manager ======\n",
      "Current google-chrome version is 99.0.4844\n",
      "Get LATEST chromedriver version for 99.0.4844 google-chrome\n",
      "Driver [C:\\Users\\jorge\\.wdm\\drivers\\chromedriver\\win32\\99.0.4844.51\\chromedriver.exe] found in cache\n"
     ]
    }
   ],
   "source": [
    "#Establsih path to chrome executable file\n",
    "executable_path = {'executable_path': ChromeDriverManager().install()}\n",
    "browser = Browser('chrome', **executable_path, headless=False)"
   ]
  },
  {
   "cell_type": "markdown",
   "id": "190cd5a2-6771-4f7c-b849-93fbe8bfe6b4",
   "metadata": {
    "tags": []
   },
   "source": [
    "## NASA Mars News\n",
    "\n",
    "[NASA - Mars Exploration Program](https://mars.nasa.gov/news/)\n",
    "\n",
    "\n"
   ]
  },
  {
   "cell_type": "code",
   "execution_count": 10,
   "id": "9ea9e4ed-36c3-4aae-9a36-a3f73418b69a",
   "metadata": {
    "scrolled": true,
    "tags": []
   },
   "outputs": [],
   "source": [
    "# Visit the NASA Mars News Page\n",
    "# Set up url\n",
    "nasa_url = \"https://mars.nasa.gov/news/\"\n",
    "browser.visit(nasa_url)\n",
    "\n",
    "# Wait for the page/page elements to load.\n",
    "time.sleep(1)\n",
    "\n",
    "# Scrape page into soup.\n",
    "html = browser.html\n",
    "soup = bs(html, \"html.parser\")"
   ]
  },
  {
   "cell_type": "code",
   "execution_count": 11,
   "id": "0872f6b3-f352-4001-a0db-b692095e7794",
   "metadata": {},
   "outputs": [
    {
     "name": "stdout",
     "output_type": "stream",
     "text": [
      "Latest news title: NASA's Ingenuity Helicopter and Asteroid-Monitoring System Honored.\n",
      "Latest news p text: The team behind the agency's history-making rotorcraft soars, picking up high-profile awards alongside a new-and-improved system to assess asteroid orbits.\n"
     ]
    }
   ],
   "source": [
    "# Get latest news title and paragraph text.\n",
    "news_title = soup.find_all('div', class_='content_title')[1].text\n",
    "news_p = soup.find_all('div', class_=\"article_teaser_body\")[0].text\n",
    "print(f\"Latest news title: {news_title}.\")\n",
    "print(f\"Latest news p text: {news_p}\")"
   ]
  },
  {
   "cell_type": "code",
   "execution_count": 58,
   "id": "f423d50f-bafc-4bf6-ac91-d6fddacd52f1",
   "metadata": {},
   "outputs": [],
   "source": [
    "# Navigate to the page\n",
    "img_url = 'https://spaceimages-mars.com/'\n",
    "browser.visit(img_url)\n",
    "\n",
    "\n",
    "# Find figure to retrieve section that has image url\n",
    "jpl_html = browser.html\n",
    "jpl_soup = bs(jpl_html, \"html.parser\")\n",
    "jpl_img_result = jpl_soup.find(\"a\", class_=\"showimg fancybox-thumbs\")\n",
    "jpl_img_result1 = jpl_img_result[\"href\"]"
   ]
  },
  {
   "cell_type": "code",
   "execution_count": 59,
   "id": "fc8fb0ba-e52a-4d71-a8df-7f10afcd7e00",
   "metadata": {},
   "outputs": [
    {
     "data": {
      "text/plain": [
       "'https://spaceimages-mars.com/image/featured/mars1.jpg'"
      ]
     },
     "execution_count": 59,
     "metadata": {},
     "output_type": "execute_result"
    }
   ],
   "source": [
    "# Find the image url to the full size .jpg image\n",
    "featured_image_url = img_url + jpl_img_result1\n",
    "featured_image_url"
   ]
  },
  {
   "cell_type": "code",
   "execution_count": null,
   "id": "d72efaad-dba4-478e-911f-088dcb893605",
   "metadata": {},
   "outputs": [],
   "source": []
  },
  {
   "cell_type": "code",
   "execution_count": null,
   "id": "11f4e25f-6246-4da7-b74a-303df104a0d9",
   "metadata": {},
   "outputs": [],
   "source": []
  },
  {
   "cell_type": "code",
   "execution_count": null,
   "id": "236c292a-2519-445f-8561-e4e0e020073a",
   "metadata": {},
   "outputs": [],
   "source": []
  },
  {
   "cell_type": "code",
   "execution_count": null,
   "id": "fadbe697-461f-4771-b429-58efc7309380",
   "metadata": {},
   "outputs": [],
   "source": []
  },
  {
   "cell_type": "code",
   "execution_count": null,
   "id": "b9a84eb1-66f1-4a40-ac66-749b5b38ec58",
   "metadata": {},
   "outputs": [],
   "source": [
    "# !jupyter nbconvert --to script mission_to_mars.ipynb\n",
    "\n"
   ]
  }
 ],
 "metadata": {
  "kernelspec": {
   "display_name": "Python 3 (ipykernel)",
   "language": "python",
   "name": "python3"
  },
  "language_info": {
   "codemirror_mode": {
    "name": "ipython",
    "version": 3
   },
   "file_extension": ".py",
   "mimetype": "text/x-python",
   "name": "python",
   "nbconvert_exporter": "python",
   "pygments_lexer": "ipython3",
   "version": "3.9.7"
  }
 },
 "nbformat": 4,
 "nbformat_minor": 5
}
